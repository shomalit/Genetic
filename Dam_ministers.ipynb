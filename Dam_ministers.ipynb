{
  "nbformat": 4,
  "nbformat_minor": 0,
  "metadata": {
    "colab": {
      "provenance": []
    },
    "kernelspec": {
      "name": "python3",
      "display_name": "Python 3"
    },
    "language_info": {
      "name": "python"
    }
  },
  "cells": [
    {
      "cell_type": "code",
      "execution_count": null,
      "metadata": {
        "id": "phwGQkKAsQJ0"
      },
      "outputs": [],
      "source": [
        "import random\n",
        "from collections import Counter\n",
        "\n",
        "class misisters :\n",
        "\n",
        "    def make_Population(self) :\n",
        "\n",
        "        '''Make first genaration of Damon's Minesters'''\n",
        "        population=[]   #main list \n",
        "        chromoz=[0,1,2,3,4,5,6,7]      #shows where's each minister(index),Column\n",
        "        s=0\n",
        "        for _ in range(20):\n",
        "          L=chromoz\n",
        "          random.shuffle(L)\n",
        "          population.append(L)\n",
        "          s+=1\n",
        "        print(f'{len(population)} Chromosomes has made successfuly !')\n",
        "        #for item in population:\n",
        "        #    print(item)\n",
        "        return population\n",
        "            \n",
        "    def chooice_Best_parents(self):\n",
        "        '''Select Best Parrents and save them for copy !'''\n",
        "        sequence=[]   # Ministers columns situation\n",
        "        gen_Score=[]\n",
        "        population_List = misisters.make_Population(self)\n",
        "        for item in population_List :\n",
        "            #freq_dict=Counter(item)\n",
        "            print(f'genes and report= {item} ')\n",
        "        print('cho')\n",
        "    def damon(self):\n",
        "      count=8\n",
        "      L=[]\n",
        "      print('start')\n",
        "      while count>0 :\n",
        "        n=random.randint(0,7)\n",
        "        print(n)\n",
        "        for x in L:\n",
        "          if n==x:break\n",
        "          else:\n",
        "            L.append(n)\n",
        "        count =count-1\n",
        "      print(L,count)  \n",
        "# call\n",
        "a=misisters()\n",
        "a.damon()"
      ]
    },
    {
      "cell_type": "code",
      "source": [
        "from random import randint\n",
        "\n",
        "class Minesters ():\n",
        "  def __init__(self,param1=20):\n",
        "    self.pop_Size=param1\n",
        "\n",
        "  def make_Population_unfreq(self):\n",
        "    '''Create first generation !! Unfrequented''' \n",
        "    done_C=0        # Counter of doing Tasks\n",
        "    gen_List=[]\n",
        "    pop_List=[]     # Population\n",
        "    #---start----\n",
        "    for _ in range(self.pop_Size):\n",
        "      n=randint(0,7)  # Make first random minister.\n",
        "      gen_List.append(n)\n",
        "      #print(f'{n},{gen_List}\\n')       # print First minister.\n",
        "      while len(gen_List)<8 :           # do until making 8 unfrequented gen\n",
        "        n =randint(0,7)\n",
        "        #print(n)\n",
        "        frqgen_C= 0                     # counter of frequented gen\n",
        "        for x in range(0,len(gen_List)):\n",
        "          if n==gen_List[x]:            # if find frequented gen set flag\n",
        "            frqgen_C +=1\n",
        "        if frqgen_C ==0 :               #if is not frequented append it\n",
        "          gen_List.append(n)\n",
        "        frqgen_C=0\n",
        "        done_C +=1\n",
        "      pop_List.append(gen_List) # add gens to population list\n",
        "      gen_List=[]  \n",
        "    #print(gen_List,done_C)\n",
        "    #print(pop_List)\n",
        "    return pop_List\n",
        "\n",
        "#------------------\n",
        "a=Minesters(10)\n",
        "print(a.pop_Size)\n",
        "a.make_Population_unfreq()\n",
        "\n"
      ],
      "metadata": {
        "colab": {
          "base_uri": "https://localhost:8080/"
        },
        "id": "RgU-CoonA0uB",
        "outputId": "9a8610de-3869-4882-b0d6-4440b7c7488b"
      },
      "execution_count": 52,
      "outputs": [
        {
          "output_type": "stream",
          "name": "stdout",
          "text": [
            "10\n"
          ]
        },
        {
          "output_type": "execute_result",
          "data": {
            "text/plain": [
              "[[1, 4, 3, 6, 5, 0, 7, 2],\n",
              " [4, 5, 1, 0, 6, 2, 7, 3],\n",
              " [6, 5, 1, 3, 0, 2, 7, 4],\n",
              " [2, 0, 6, 5, 4, 3, 1, 7],\n",
              " [1, 0, 3, 4, 5, 7, 2, 6],\n",
              " [0, 2, 6, 7, 5, 4, 1, 3],\n",
              " [2, 4, 5, 1, 7, 3, 6, 0],\n",
              " [5, 6, 3, 2, 4, 1, 7, 0],\n",
              " [4, 1, 5, 7, 0, 3, 6, 2],\n",
              " [7, 2, 0, 4, 3, 1, 6, 5]]"
            ]
          },
          "metadata": {},
          "execution_count": 52
        }
      ]
    }
  ]
}